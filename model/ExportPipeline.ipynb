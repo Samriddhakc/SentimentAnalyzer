{
  "nbformat": 4,
  "nbformat_minor": 0,
  "metadata": {
    "colab": {
      "name": "ExportPipeline.ipynb",
      "provenance": [],
      "private_outputs": true,
      "collapsed_sections": []
    },
    "kernelspec": {
      "name": "python3",
      "display_name": "Python 3"
    }
  },
  "cells": [
    {
      "cell_type": "code",
      "metadata": {
        "id": "rxzUIpbYt_CU",
        "colab_type": "code",
        "colab": {}
      },
      "source": [
        "!pip install pyspark"
      ],
      "execution_count": null,
      "outputs": []
    },
    {
      "cell_type": "code",
      "metadata": {
        "id": "Ll427_ntucdg",
        "colab_type": "code",
        "colab": {}
      },
      "source": [
        "from pyspark import SparkContext,SparkConf\n",
        "from pyspark.sql.functions import monotonically_increasing_id \n",
        "from nltk.stem import WordNetLemmatizer\n",
        "from pyspark.ml import Pipeline\n",
        "import nltk\n",
        "import re\n",
        "from pyspark.ml.feature import HashingTF, IDF\n",
        "from pyspark.sql.session import SparkSession\n",
        "from pyspark.streaming import StreamingContext\n",
        "import pyspark.sql.types as tp\n",
        "from pyspark.ml import Pipeline\n",
        "from pyspark.sql import functions as f\n",
        "from pyspark.sql.functions import udf\n",
        "from  pyspark.sql.functions import regexp_replace\n",
        "#from pyspark.ml.feature import StringIndexer, OneHotEncoderEstimator, VectorAssembler\n",
        "from pyspark.ml.feature import StopWordsRemover, Word2Vec, RegexTokenizer\n",
        "from pyspark.ml.classification import LogisticRegression\n",
        "from pyspark.sql import Row"
      ],
      "execution_count": null,
      "outputs": []
    },
    {
      "cell_type": "code",
      "metadata": {
        "id": "ukWogRcNHZWt",
        "colab_type": "code",
        "colab": {}
      },
      "source": [
        "nltk.download('wordnet')"
      ],
      "execution_count": null,
      "outputs": []
    },
    {
      "cell_type": "code",
      "metadata": {
        "id": "unTMbf9PunYf",
        "colab_type": "code",
        "colab": {}
      },
      "source": [
        "conf=SparkConf().setAppName(\"SparkStreaming\")\n",
        "conf.set(\"spark.executor.memory\", \"4g\")\n",
        "conf.set(\"spark.driver.memory\", \"4g\")\n",
        "conf.set(\"spark.cores.max\", \"2\")\n",
        "sc=SparkContext.getOrCreate(conf)\n",
        "spark = SparkSession(sc)"
      ],
      "execution_count": null,
      "outputs": []
    },
    {
      "cell_type": "code",
      "metadata": {
        "id": "4QHL0PnZuoT1",
        "colab_type": "code",
        "colab": {}
      },
      "source": [
        "my_schema = tp.StructType([\n",
        "  tp.StructField(name= 'sentiment', dataType= tp.StringType(),  nullable= True),\n",
        "  tp.StructField(name= 'ids', dataType= tp.StringType(),  nullable= True),\n",
        "  tp.StructField(name= 'date', dataType= tp.StringType(),   nullable= True),\n",
        "  tp.StructField(name= 'flag', dataType= tp.StringType(),   nullable= True),\n",
        "  tp.StructField(name= 'user', dataType= tp.StringType(),   nullable= True),\n",
        "  tp.StructField(name= 'text', dataType= tp.StringType(),   nullable= True)\n",
        "])"
      ],
      "execution_count": null,
      "outputs": []
    },
    {
      "cell_type": "code",
      "metadata": {
        "id": "cYAoj98-uvvL",
        "colab_type": "code",
        "colab": {}
      },
      "source": [
        "my_data = spark.read.csv('twitter_data.csv',schema=my_schema,header=True)"
      ],
      "execution_count": null,
      "outputs": []
    },
    {
      "cell_type": "code",
      "metadata": {
        "id": "hju5K3IroaPe",
        "colab_type": "code",
        "colab": {}
      },
      "source": [
        "my_data.select('sentiment').where(my_data['sentiment']==\"0\").count()"
      ],
      "execution_count": null,
      "outputs": []
    },
    {
      "cell_type": "code",
      "metadata": {
        "id": "B1EuwhZEyQV0",
        "colab_type": "code",
        "colab": {}
      },
      "source": [
        "my_data=my_data.replace(\"4\",\"1\")"
      ],
      "execution_count": null,
      "outputs": []
    },
    {
      "cell_type": "code",
      "metadata": {
        "id": "sicFCtJlwr4y",
        "colab_type": "code",
        "colab": {}
      },
      "source": [
        "my_data.select('sentiment').where(my_data['sentiment']==\"1\").count()"
      ],
      "execution_count": null,
      "outputs": []
    },
    {
      "cell_type": "code",
      "metadata": {
        "id": "rQEiAVdVu3GY",
        "colab_type": "code",
        "colab": {}
      },
      "source": [
        "my_data.show(5)"
      ],
      "execution_count": null,
      "outputs": []
    },
    {
      "cell_type": "code",
      "metadata": {
        "id": "GKJQEePF6DDL",
        "colab_type": "code",
        "colab": {}
      },
      "source": [
        "from pyspark.sql.functions import rand \n",
        "my_data=my_data.orderBy(rand())\n",
        "my_data=my_data.withColumn(\"label\",my_data[\"sentiment\"].cast(tp.IntegerType()))"
      ],
      "execution_count": null,
      "outputs": []
    },
    {
      "cell_type": "code",
      "metadata": {
        "id": "zDrse8L-71iO",
        "colab_type": "code",
        "colab": {}
      },
      "source": [
        "my_data.show(10)"
      ],
      "execution_count": null,
      "outputs": []
    },
    {
      "cell_type": "code",
      "metadata": {
        "id": "jNkFXNuiu831",
        "colab_type": "code",
        "colab": {}
      },
      "source": [
        "my_data=my_data.select([\"text\",\"label\"])"
      ],
      "execution_count": null,
      "outputs": []
    },
    {
      "cell_type": "code",
      "metadata": {
        "id": "FODq34y133ZV",
        "colab_type": "code",
        "colab": {}
      },
      "source": [
        "my_data=my_data.select(\"*\").withColumn(\"id\",monotonically_increasing_id())\n",
        "my_data=my_data.withColumn(\"id\",my_data[\"id\"].cast(tp.IntegerType()))"
      ],
      "execution_count": null,
      "outputs": []
    },
    {
      "cell_type": "code",
      "metadata": {
        "id": "Zw_wDJ6j8Y2q",
        "colab_type": "code",
        "colab": {}
      },
      "source": [
        "my_data.filter(my_data['id']>0).show(5)"
      ],
      "execution_count": null,
      "outputs": []
    },
    {
      "cell_type": "code",
      "metadata": {
        "id": "RXXYXRy_9uGl",
        "colab_type": "code",
        "colab": {}
      },
      "source": [
        "my_data.count()"
      ],
      "execution_count": null,
      "outputs": []
    },
    {
      "cell_type": "code",
      "metadata": {
        "id": "ap72lh5fu_4l",
        "colab_type": "code",
        "colab": {}
      },
      "source": [
        "# Preprocessing Text. \n",
        "# LowerCasing->This erases confusion without the text losing any meaning \n",
        "# For clarity, replace words like http,https,or www by URL \n",
        "# Replacing emojis with words so that it can be used for feature extraction \n",
        "# Replace username with the word USER \n",
        "# Removing non-alphabets\n",
        "# Remove repitive letter >=3 for reducing redudandency \n",
        "# Removing short words->Remove words with less than length 2 because they are mostly irrelevant\n",
        "# Remove stop words:->Does not add much meaning to the whole sentence so it can be ignored. \n",
        "# Lemmantizing=>convert word to its base form to have a concise bag of words and prevent overfitting. \n",
        "\n",
        "emojis={':)': 'smile', ':-)': 'smile', ';d': 'wink', ':-E': 'vampire', ':(': 'sad', \n",
        "          ':-(': 'sad', ':-<': 'sad', ':P': 'raspberry', ':O': 'surprised',\n",
        "          ':-@': 'shocked', ':@': 'shocked',':-$': 'confused', ':\\\\': 'annoyed', \n",
        "          ':#': 'mute', ':X': 'mute', ':^)': 'smile', ':-&': 'confused', '$_$': 'greedy',\n",
        "          '@@': 'eyeroll', ':-!': 'confused', ':-D': 'smile', ':-0': 'yell', 'O.o': 'confused',\n",
        "          '<(-_-)>': 'robot', 'd[-_-]b': 'dj', \":'-)\": 'sadsmile', ';)': 'wink', \n",
        "          ';-)': 'wink', 'O:-)': 'angel','O*-)': 'angel','(:-D': 'gossip', '=^.^=': 'cat'}\n",
        "\n",
        "## Defining set containing all stopwords in english.\n",
        "stopwordlist = ['a', 'about', 'above', 'after', 'again', 'ain', 'all', 'am', 'an',\n",
        "             'and','any','are', 'as', 'at', 'be', 'because', 'been', 'before',\n",
        "             'being', 'below', 'between','both', 'by', 'can', 'd', 'did', 'do',\n",
        "             'does', 'doing', 'down', 'during', 'each','few', 'for', 'from', \n",
        "             'further', 'had', 'has', 'have', 'having', 'he', 'her', 'here',\n",
        "             'hers', 'herself', 'him', 'himself', 'his', 'how', 'i', 'if', 'in',\n",
        "             'into','is', 'it', 'its', 'itself', 'just', 'll', 'm', 'ma',\n",
        "             'me', 'more', 'most','my', 'myself', 'now', 'o', 'of', 'on', 'once',\n",
        "             'only', 'or', 'other', 'our', 'ours','ourselves', 'out', 'own', 're',\n",
        "             's', 'same', 'she', \"shes\", 'should', \"shouldve\",'so', 'some', 'such',\n",
        "             't', 'than', 'that', \"thatll\", 'the', 'their', 'theirs', 'them',\n",
        "             'themselves', 'then', 'there', 'these', 'they', 'this', 'those', \n",
        "             'through', 'to', 'too','under', 'until', 'up', 've', 'very', 'was',\n",
        "             'we', 'were', 'what', 'when', 'where','which','while', 'who', 'whom',\n",
        "             'why', 'will', 'with', 'won', 'y', 'you', \"youd\",\"youll\", \"youre\",\n",
        "             \"youve\", 'your', 'yours', 'yourself', 'yourselves']"
      ],
      "execution_count": null,
      "outputs": []
    },
    {
      "cell_type": "code",
      "metadata": {
        "id": "Cv8n9dcyvDhd",
        "colab_type": "code",
        "colab": {}
      },
      "source": [
        "def preprocess_sentiments(tweet): \n",
        "    wordLemm=WordNetLemmatizer()\n",
        "    url_pattern=r\"((https://)[^ ]*|(http://)[^ ]*|(www\\.)[^ ]*)\"\n",
        "    user_pattern=\"@[^\\s]+\"\n",
        "    alpha_pattern=\"[^a-zA-Z0-9]\"\n",
        "    sequence_pattern=r\"(.)\\1\\1+\"\n",
        "    sequence_replace_pattern= r\"\\1\\1\"\n",
        "    if type(tweet)==str: \n",
        "      tweet=tweet.lower()\n",
        "    tweet=re.sub(url_pattern,' URL',tweet)\n",
        "    for emoji in emojis.keys(): \n",
        "        tweet=tweet.replace (emoji,\"EMOJ\"+emojis[emoji])\n",
        "    tweet=re.sub(user_pattern,' USER',tweet)\n",
        "    tweet=re.sub(alpha_pattern,\" \",tweet)\n",
        "    tweet=re.sub(sequence_pattern,sequence_replace_pattern,tweet)\n",
        "\n",
        "    tweet_words=\"\"\n",
        "    for word in tweet.split(' '): \n",
        "        if len(word)>1 and word not in stopwordlist: \n",
        "            word=wordLemm.lemmatize(word)\n",
        "            tweet_words+=(word+' ')\n",
        "    return tweet_words"
      ],
      "execution_count": null,
      "outputs": []
    },
    {
      "cell_type": "code",
      "metadata": {
        "id": "_IUlF7UFvGws",
        "colab_type": "code",
        "colab": {}
      },
      "source": [
        "preprocess_udf = udf(preprocess_sentiments,tp.StringType())\n",
        "my_data=my_data.withColumn(\"text\",preprocess_udf(\"text\"))"
      ],
      "execution_count": null,
      "outputs": []
    },
    {
      "cell_type": "code",
      "metadata": {
        "id": "0JzXCw9VHK_L",
        "colab_type": "code",
        "colab": {}
      },
      "source": [
        "my_data.show(5)"
      ],
      "execution_count": null,
      "outputs": []
    },
    {
      "cell_type": "code",
      "metadata": {
        "id": "qA1ncM_a_V0b",
        "colab_type": "code",
        "colab": {}
      },
      "source": [
        "train_data=my_data.filter(my_data['id']<8000)\n",
        "test_data=my_data.filter(my_data['id']>=8000)"
      ],
      "execution_count": null,
      "outputs": []
    },
    {
      "cell_type": "code",
      "metadata": {
        "id": "iyI6USd9FceM",
        "colab_type": "code",
        "colab": {}
      },
      "source": [
        "train_data.count()"
      ],
      "execution_count": null,
      "outputs": []
    },
    {
      "cell_type": "code",
      "metadata": {
        "id": "Z3aQ1KiaHCmI",
        "colab_type": "code",
        "colab": {}
      },
      "source": [
        "test_data.count()"
      ],
      "execution_count": null,
      "outputs": []
    },
    {
      "cell_type": "code",
      "metadata": {
        "id": "W4bEkalIx9n8",
        "colab_type": "code",
        "colab": {}
      },
      "source": [
        "nltk.download('wordnet')"
      ],
      "execution_count": null,
      "outputs": []
    },
    {
      "cell_type": "code",
      "metadata": {
        "id": "F5y1goKLvJ0R",
        "colab_type": "code",
        "colab": {}
      },
      "source": [
        "train_data.show(5)"
      ],
      "execution_count": null,
      "outputs": []
    },
    {
      "cell_type": "code",
      "metadata": {
        "id": "0M1kfJUPn9jG",
        "colab_type": "code",
        "colab": {}
      },
      "source": [
        "train_data.select('label').where(train_data['label']==1).count()"
      ],
      "execution_count": null,
      "outputs": []
    },
    {
      "cell_type": "code",
      "metadata": {
        "id": "l09sksZD4XhV",
        "colab_type": "code",
        "colab": {}
      },
      "source": [
        "#stages for setting up the machine learning pipeline.\n",
        "stage=RegexTokenizer(inputCol= 'text', outputCol= 'tokens', pattern= '\\\\W')\n",
        "stage_1=StopWordsRemover(inputCol= 'tokens', outputCol= 'filtered_text')\n",
        "stage_2=Word2Vec(inputCol='filtered_text', outputCol= 'vector', vectorSize=100)\n",
        "lr=LogisticRegression(featuresCol='vector', labelCol= 'label',maxIter=10, regParam=0.001)\n",
        "pipeline1=Pipeline(stages=[stage,stage_1,stage_2, lr])\n",
        "model=pipeline1.fit(train_data)"
      ],
      "execution_count": null,
      "outputs": []
    },
    {
      "cell_type": "code",
      "metadata": {
        "id": "J1nAGUw4VjA7",
        "colab_type": "code",
        "colab": {}
      },
      "source": [
        "model.save(F\"/content/gdrive/My Drive//mlmodel1\")"
      ],
      "execution_count": null,
      "outputs": []
    },
    {
      "cell_type": "code",
      "metadata": {
        "id": "QQW3Z01ZA5Dl",
        "colab_type": "code",
        "colab": {}
      },
      "source": [
        "test = spark.createDataFrame([\n",
        "   (1,\"I love you\"),\n",
        "   (2,\"I am so happy\"),\n",
        "   (5,\"I hate good mood\"),\n",
        "], [\"id\", \"text\"])\n"
      ],
      "execution_count": null,
      "outputs": []
    },
    {
      "cell_type": "code",
      "metadata": {
        "id": "kVdHDTHnPMRG",
        "colab_type": "code",
        "colab": {}
      },
      "source": [
        "train_data.select('label').where(train_data['label']>0).show(5)"
      ],
      "execution_count": null,
      "outputs": []
    },
    {
      "cell_type": "code",
      "metadata": {
        "id": "0YYRbIMiEddW",
        "colab_type": "code",
        "colab": {}
      },
      "source": [
        "prediction1=model.transform(test_data)\n",
        "prediction1.select(\"prediction\")"
      ],
      "execution_count": null,
      "outputs": []
    },
    {
      "cell_type": "code",
      "metadata": {
        "id": "QXmdL8WNE0LG",
        "colab_type": "code",
        "colab": {}
      },
      "source": [
        "prediction1.show(10)"
      ],
      "execution_count": null,
      "outputs": []
    },
    {
      "cell_type": "code",
      "metadata": {
        "id": "L-c1NtqbE5wA",
        "colab_type": "code",
        "colab": {}
      },
      "source": [
        "prediction1=model.transform(train_data)\n",
        "pred=prediction1.select(\"prediction\")"
      ],
      "execution_count": null,
      "outputs": []
    },
    {
      "cell_type": "markdown",
      "metadata": {
        "id": "haXjtlbHgoR1",
        "colab_type": "text"
      },
      "source": [
        ""
      ]
    },
    {
      "cell_type": "code",
      "metadata": {
        "id": "Hw49Ula5F8jW",
        "colab_type": "code",
        "colab": {}
      },
      "source": [
        "pred_lis=[pred[i].prediction for i in range(len(pred.collect())] "
      ],
      "execution_count": null,
      "outputs": []
    },
    {
      "cell_type": "code",
      "metadata": {
        "id": "cjGu2OAoIgIV",
        "colab_type": "code",
        "colab": {}
      },
      "source": [
        "true=train_data.select(\"label\").collect()"
      ],
      "execution_count": null,
      "outputs": []
    },
    {
      "cell_type": "code",
      "metadata": {
        "id": "bA0bC-AXI6CI",
        "colab_type": "code",
        "colab": {}
      },
      "source": [
        "true_lis=[pred[i].prediction for i in range(len(true))] "
      ],
      "execution_count": null,
      "outputs": []
    },
    {
      "cell_type": "code",
      "metadata": {
        "id": "-AoS-NH6JD0u",
        "colab_type": "code",
        "colab": {}
      },
      "source": [
        "right=0\n",
        "for idx in range(len(true_lis)): \n",
        "  if true_lis[idx]==pred_lis[idx]: \n",
        "    right+=1\n",
        "print(right/len(true_lis))\n"
      ],
      "execution_count": null,
      "outputs": []
    },
    {
      "cell_type": "code",
      "metadata": {
        "id": "f-lHX-ksBo_G",
        "colab_type": "code",
        "colab": {}
      },
      "source": [
        "prediction = model.transform(test)"
      ],
      "execution_count": null,
      "outputs": []
    },
    {
      "cell_type": "code",
      "metadata": {
        "id": "ZUjJjayuBqyE",
        "colab_type": "code",
        "colab": {}
      },
      "source": [
        " prediction.select( \"text\", \"prediction\").collect()"
      ],
      "execution_count": null,
      "outputs": []
    },
    {
      "cell_type": "code",
      "metadata": {
        "id": "vZp7eDgLLK0b",
        "colab_type": "code",
        "colab": {}
      },
      "source": [
        "from google.colab import drive\n",
        "drive.mount('/content/gdrive')"
      ],
      "execution_count": null,
      "outputs": []
    },
    {
      "cell_type": "code",
      "metadata": {
        "id": "lLENKLa_uTe0",
        "colab_type": "code",
        "colab": {}
      },
      "source": [
        "model.save(F\"/content/gdrive/My Drive/mlmod\")"
      ],
      "execution_count": null,
      "outputs": []
    },
    {
      "cell_type": "code",
      "metadata": {
        "id": "iPlrF7J5WqSd",
        "colab_type": "code",
        "colab": {}
      },
      "source": [
        "model.save(F\"/content/gdrive/My Drive//mlmodel\")"
      ],
      "execution_count": null,
      "outputs": []
    },
    {
      "cell_type": "code",
      "metadata": {
        "id": "IV4I20WV_mT0",
        "colab_type": "code",
        "colab": {}
      },
      "source": [
        "stage_3=IDF(inputCol=\"rawFeatures\", outputCol=\"features\")"
      ],
      "execution_count": null,
      "outputs": []
    }
  ]
}